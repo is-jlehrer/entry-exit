{
 "cells": [
  {
   "cell_type": "code",
   "execution_count": 16,
   "id": "346bcd54",
   "metadata": {},
   "outputs": [],
   "source": [
    "import pandas as pd \n",
    "import numpy as np\n",
    "import matplotlib.pyplot as plt\n",
    "import ast"
   ]
  },
  {
   "cell_type": "code",
   "execution_count": 20,
   "id": "b58b11a4",
   "metadata": {
    "scrolled": true
   },
   "outputs": [],
   "source": [
    "df = pd.read_csv('inference_results/model_results_sample_rate_5_resnet18_500k_decomp.csv', index_col='Unnamed: 0')\n",
    "preds = df.loc[:, '0']\n",
    "times = df.loc[:, '1']\n",
    "\n",
    "times = pd.read_csv('inference_results/times_results_sample_rate_5_resnet18_500k_decomp.csv')"
   ]
  },
  {
   "cell_type": "code",
   "execution_count": 31,
   "id": "7acf9dc1",
   "metadata": {
    "scrolled": true
   },
   "outputs": [
    {
     "data": {
      "text/plain": [
       "array(['0.00042736', '0.00041799', '0.00042143', '...', '0.00058707',\n",
       "       '0.00043139', '0.00022011'], dtype='<U10')"
      ]
     },
     "execution_count": 31,
     "metadata": {},
     "output_type": "execute_result"
    }
   ],
   "source": [
    "np.array(preds[0].replace('[', '').replace(']', '').split(' '))"
   ]
  },
  {
   "cell_type": "code",
   "execution_count": null,
   "id": "6a952591",
   "metadata": {},
   "outputs": [],
   "source": []
  }
 ],
 "metadata": {
  "kernelspec": {
   "display_name": "Python (lightml)",
   "language": "python",
   "name": "light-ml"
  },
  "language_info": {
   "codemirror_mode": {
    "name": "ipython",
    "version": 3
   },
   "file_extension": ".py",
   "mimetype": "text/x-python",
   "name": "python",
   "nbconvert_exporter": "python",
   "pygments_lexer": "ipython3",
   "version": "3.10.5"
  }
 },
 "nbformat": 4,
 "nbformat_minor": 5
}
